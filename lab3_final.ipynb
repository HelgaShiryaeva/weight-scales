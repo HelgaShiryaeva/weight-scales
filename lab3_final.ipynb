{
 "cells": [
  {
   "cell_type": "markdown",
   "metadata": {
    "collapsed": true
   },
   "source": [
    "# Volha Shyrayeva\n",
    "## 3 course 3 group\n",
    "## Laboratory work 3 (Variant 29)"
   ]
  },
  {
   "cell_type": "markdown",
   "metadata": {},
   "source": [
    "## Task 1"
   ]
  },
  {
   "cell_type": "code",
   "execution_count": 12,
   "metadata": {},
   "outputs": [],
   "source": [
    "import numpy as np\n",
    "import pandas as pd\n",
    "\n",
    "two = 2\n",
    "octets = [86, 75, 204, 19]"
   ]
  },
  {
   "cell_type": "code",
   "execution_count": 13,
   "metadata": {},
   "outputs": [],
   "source": [
    "def dec_to_bin(decimal, printable=False):\n",
    "    binary_str = ''\n",
    "    description = '{} = '.format(decimal)\n",
    "    for i in range(8):\n",
    "        current_power = 2 ** (7 - i)\n",
    "        if decimal - current_power >= 0:\n",
    "            decimal = decimal - current_power\n",
    "            binary_str += '1'\n",
    "            if printable:\n",
    "                description += '{} + '.format(current_power)\n",
    "        else:\n",
    "            binary_str += '0'\n",
    "    if printable:\n",
    "        print(description[:-2])\n",
    "\n",
    "    return binary_str"
   ]
  },
  {
   "cell_type": "code",
   "execution_count": 14,
   "metadata": {},
   "outputs": [
    {
     "name": "stdout",
     "output_type": "stream",
     "text": [
      "86 = 64 + 16 + 4 + 2 \n",
      "Decimal : 86, Binary : 01010110\n",
      "75 = 64 + 8 + 2 + 1 \n",
      "Decimal : 75, Binary : 01001011\n",
      "204 = 128 + 64 + 8 + 4 \n",
      "Decimal : 204, Binary : 11001100\n",
      "19 = 16 + 2 + 1 \n",
      "Decimal : 19, Binary : 00010011\n",
      "\n",
      "Input : 86.75.204.19 \n",
      "Binary : 01010110.01001011.11001100.00010011\n"
     ]
    }
   ],
   "source": [
    "out_ip_bin = ''\n",
    "out_ip = ''\n",
    "\n",
    "\n",
    "for octet in octets:\n",
    "    binary = dec_to_bin(octet, printable=True)\n",
    "    print('Decimal : {}, Binary : {}'.format(octet, binary))\n",
    "    out_ip_bin += binary + '.'\n",
    "    out_ip += '{}.'.format(octet)\n",
    "\n",
    "\n",
    "print('\\nInput : {} \\nBinary : {}'.format(out_ip[:-1], out_ip_bin[:-1]))"
   ]
  },
  {
   "cell_type": "markdown",
   "metadata": {},
   "source": [
    "## Task 2"
   ]
  },
  {
   "cell_type": "code",
   "execution_count": 15,
   "metadata": {},
   "outputs": [
    {
     "name": "stdout",
     "output_type": "stream",
     "text": [
      "    Octet1  Octet2  Octet3  Octet4\n",
      "0      255     255       1       0\n",
      "1      128      61       0       1\n",
      "2      192     201     255     254\n",
      "3      214      47       8     160\n",
      "4      223     256      72     120\n",
      "5      255     225      64       0\n",
      "6      218     212      34     255\n",
      "7      255     253     254       0\n",
      "8      111     111     111     111\n",
      "9      203     181     133      64\n",
      "10     255     255     255     224\n"
     ]
    }
   ],
   "source": [
    "octets_array = pd.read_csv('data.csv', delimiter='.')\n",
    "print(octets_array)"
   ]
  },
  {
   "cell_type": "code",
   "execution_count": 16,
   "metadata": {},
   "outputs": [],
   "source": [
    "def print_ip(octets, printable=False):\n",
    "    out_ip_bin = ''\n",
    "    out_ip = ''\n",
    "    for octet in octets:\n",
    "        binary = dec_to_bin(octet, printable=printable)\n",
    "        out_ip_bin += binary + '.'\n",
    "        out_ip += '{}.'.format(octet)\n",
    "    print('\\nInput : {} \\nBinary : {}'.format(out_ip[:-1], out_ip_bin[:-1]))"
   ]
  },
  {
   "cell_type": "code",
   "execution_count": 17,
   "metadata": {},
   "outputs": [],
   "source": [
    "def is_ip(octets):\n",
    "    if len(octets) != 4:\n",
    "        return False\n",
    "    for octet in octets:\n",
    "        if not 0 <= octet <= 255:\n",
    "            return False\n",
    "    if octets[0] in [0, 10, 127, 255]:\n",
    "        return False\n",
    "    return True"
   ]
  },
  {
   "cell_type": "code",
   "execution_count": 18,
   "metadata": {},
   "outputs": [],
   "source": [
    "def is_mask(octets):\n",
    "    bin_octets_str = ''\n",
    "    for octet in octets:\n",
    "        bin_octet = dec_to_bin(octet)\n",
    "        bin_octets_str += bin_octet\n",
    "\n",
    "    i = 0\n",
    "    while i < len(bin_octets_str) and bin_octets_str[i] == '1':\n",
    "        i += 1\n",
    "\n",
    "    if i == 0:\n",
    "        return False\n",
    "\n",
    "    for j in range(i, len(bin_octets_str)):\n",
    "        if bin_octets_str[j] == '1':\n",
    "            return False\n",
    "\n",
    "    return True"
   ]
  },
  {
   "cell_type": "code",
   "execution_count": 19,
   "metadata": {},
   "outputs": [],
   "source": [
    "def validate(octets):\n",
    "    if is_mask(octets):\n",
    "        address_type = 'VALID MASK'\n",
    "    elif is_ip(octets):\n",
    "        address_type = 'VALID IP'\n",
    "    else:\n",
    "        address_type = 'INVALID IP or MASK'\n",
    "    return address_type"
   ]
  },
  {
   "cell_type": "code",
   "execution_count": 20,
   "metadata": {},
   "outputs": [
    {
     "name": "stdout",
     "output_type": "stream",
     "text": [
      "\n",
      "Input : 255.255.1.0 \n",
      "Binary : 11111111.11111111.00000001.00000000\n",
      "INVALID IP or MASK\n",
      "\n",
      "Input : 128.61.0.1 \n",
      "Binary : 10000000.00111101.00000000.00000001\n",
      "VALID IP\n",
      "\n",
      "Input : 192.201.255.254 \n",
      "Binary : 11000000.11001001.11111111.11111110\n",
      "VALID IP\n",
      "\n",
      "Input : 214.47.8.160 \n",
      "Binary : 11010110.00101111.00001000.10100000\n",
      "VALID IP\n",
      "\n",
      "Input : 223.256.72.120 \n",
      "Binary : 11011111.11111111.01001000.01111000\n",
      "INVALID IP or MASK\n",
      "\n",
      "Input : 255.225.64.0 \n",
      "Binary : 11111111.11100001.01000000.00000000\n",
      "INVALID IP or MASK\n",
      "\n",
      "Input : 218.212.34.255 \n",
      "Binary : 11011010.11010100.00100010.11111111\n",
      "VALID IP\n",
      "\n",
      "Input : 255.253.254.0 \n",
      "Binary : 11111111.11111101.11111110.00000000\n",
      "INVALID IP or MASK\n",
      "\n",
      "Input : 111.111.111.111 \n",
      "Binary : 01101111.01101111.01101111.01101111\n",
      "VALID IP\n",
      "\n",
      "Input : 203.181.133.64 \n",
      "Binary : 11001011.10110101.10000101.01000000\n",
      "VALID IP\n",
      "\n",
      "Input : 255.255.255.224 \n",
      "Binary : 11111111.11111111.11111111.11100000\n",
      "VALID MASK\n"
     ]
    }
   ],
   "source": [
    "for octets in octets_array.iterrows():\n",
    "    raw_octets = octets[1].real\n",
    "    print_ip(raw_octets)\n",
    "    print(validate(raw_octets))"
   ]
  },
  {
   "cell_type": "markdown",
   "metadata": {},
   "source": [
    "## Task 3"
   ]
  },
  {
   "cell_type": "code",
   "execution_count": 21,
   "metadata": {},
   "outputs": [],
   "source": [
    "address = [171, 81, 144, 120]\n",
    "mask = [255, 255, 255, 0]\n",
    "\n",
    "net_address = [address[i] & mask[i] for i in range(4)]\n",
    "host_address = [address[i] & ~mask[i] for i in range(4)]\n",
    "\n",
    "net_count = 2**8 - 2"
   ]
  },
  {
   "cell_type": "code",
   "execution_count": 22,
   "metadata": {},
   "outputs": [
    {
     "name": "stdout",
     "output_type": "stream",
     "text": [
      "Ip address : \n",
      "\n",
      "Input : 171.81.144.120 \n",
      "Binary : 10101011.01010001.10010000.01111000\n",
      "\n",
      "Mask : \n",
      "\n",
      "Input : 255.255.255.0 \n",
      "Binary : 11111111.11111111.11111111.00000000\n",
      "\n",
      "Net part : \n",
      "\n",
      "Input : 171.81.144.0 \n",
      "Binary : 10101011.01010001.10010000.00000000\n",
      "\n",
      "Host part : \n",
      "\n",
      "Input : 0.0.0.120 \n",
      "Binary : 00000000.00000000.00000000.01111000\n",
      "\n",
      "Network's count : 254\n"
     ]
    }
   ],
   "source": [
    "print('Ip address : ')\n",
    "print_ip(address)\n",
    "print('\\nMask : ')\n",
    "print_ip(mask)\n",
    "print('\\nNet part : ')\n",
    "print_ip(net_address)\n",
    "print('\\nHost part : ')\n",
    "print_ip(host_address)\n",
    "print('\\nNetwork\\'s count : {}'.format(net_count))"
   ]
  },
  {
   "cell_type": "markdown",
   "metadata": {},
   "source": [
    "## Task 4"
   ]
  },
  {
   "cell_type": "code",
   "execution_count": 23,
   "metadata": {},
   "outputs": [],
   "source": [
    "def bin_to_dec(bin_str):\n",
    "    decimal = 0\n",
    "    i = 0\n",
    "    while int(bin_str[i]) is 1:\n",
    "        decimal += 2 ** (7 - i)\n",
    "        i += 1\n",
    "\n",
    "    return decimal"
   ]
  },
  {
   "cell_type": "code",
   "execution_count": 24,
   "metadata": {},
   "outputs": [],
   "source": [
    "def make_mask(count):\n",
    "    mask_octets = []\n",
    "    while count - 8 >= 0:\n",
    "        count -= 8\n",
    "        mask_octets.append(255)\n",
    "\n",
    "    bin_str = ''\n",
    "    count_buf = count\n",
    "    while count is not 0:\n",
    "        bin_str += '1'\n",
    "        count -= 1\n",
    "\n",
    "    while len(bin_str) is not 8:\n",
    "        bin_str += '0'\n",
    "\n",
    "    mask_octets.append(bin_to_dec(bin_str))\n",
    "\n",
    "    while len(mask_octets) is not 4:\n",
    "        mask_octets.append(0)\n",
    "        count_buf -= 8\n",
    "\n",
    "    return mask_octets, 2 ** (8 - count_buf) - 2"
   ]
  },
  {
   "cell_type": "code",
   "execution_count": 30,
   "metadata": {},
   "outputs": [],
   "source": [
    "addresses = [[196, 105, 157, 223], [185, 206, 219, 63]]\n",
    "mask_ones_counts = [23, 29]"
   ]
  },
  {
   "cell_type": "code",
   "execution_count": 38,
   "metadata": {},
   "outputs": [
    {
     "name": "stdout",
     "output_type": "stream",
     "text": [
      "\n",
      "Mask :\n",
      "\n",
      "Input : 255.255.254.0 \n",
      "Binary : 11111111.11111111.11111110.00000000\n",
      "\n",
      "Ip :\n",
      "\n",
      "Input : 196.105.156.0 \n",
      "Binary : 11000100.01101001.10011100.00000000\n",
      "\n",
      "Net count : 510\n",
      "\n",
      "Min address :\n",
      "\n",
      "Input : 196.105.156.1 \n",
      "Binary : 11000100.01101001.10011100.00000001\n",
      "\n",
      "Max address :\n",
      "\n",
      "Input : 196.105.157.254 \n",
      "Binary : 11000100.01101001.10011101.11111110\n",
      "\n",
      "Broadcast :\n",
      "\n",
      "Input : 196.105.157.255 \n",
      "Binary : 11000100.01101001.10011101.11111111\n",
      "\n",
      "\n",
      "Mask :\n",
      "\n",
      "Input : 255.255.255.248 \n",
      "Binary : 11111111.11111111.11111111.11111000\n",
      "\n",
      "Ip :\n",
      "\n",
      "Input : 185.206.219.56 \n",
      "Binary : 10111001.11001110.11011011.00111000\n",
      "\n",
      "Net count : 6\n",
      "\n",
      "Min address :\n",
      "\n",
      "Input : 185.206.219.57 \n",
      "Binary : 10111001.11001110.11011011.00111001\n",
      "\n",
      "Max address :\n",
      "\n",
      "Input : 185.206.219.62 \n",
      "Binary : 10111001.11001110.11011011.00111110\n",
      "\n",
      "Broadcast :\n",
      "\n",
      "Input : 185.206.219.63 \n",
      "Binary : 10111001.11001110.11011011.00111111\n",
      "\n"
     ]
    }
   ],
   "source": [
    "for address, mask_ones_count in zip(addresses, mask_ones_counts):\n",
    "    mask_octets, net_count = make_mask(mask_ones_count)\n",
    "    ip_address = [mask_octets[i] & address[i] for i in range(4)]\n",
    "    min_address = ip_address[:-1]\n",
    "    min_address.append(ip_address[3] + 1)\n",
    "    max_address = address[:-1]\n",
    "    dif = net_count - 255 + ip_address[3]\n",
    "    if dif < 0:\n",
    "        max_address.append(address[3] - 1)\n",
    "    else:\n",
    "        max_address.append(net_count - dif - 1)\n",
    "    broadcast = max_address[:-1]\n",
    "    broadcast.append(max_address[3] + 1)\n",
    "\n",
    "    print('\\nMask :')\n",
    "    print_ip(mask_octets)\n",
    "    print('\\nIp :')\n",
    "    print_ip(ip_address)\n",
    "    print('\\nNet count : {}'.format(net_count))\n",
    "    print('\\nMin address :')\n",
    "    print_ip(min_address)\n",
    "    print('\\nMax address :')\n",
    "    print_ip(max_address)\n",
    "    print('\\nBroadcast :')\n",
    "    print_ip(broadcast)\n",
    "    print()\n",
    "\n"
   ]
  }
 ],
 "metadata": {
  "kernelspec": {
   "display_name": "Python 3",
   "language": "python",
   "name": "python3"
  },
  "language_info": {
   "codemirror_mode": {
    "name": "ipython",
    "version": 3
   },
   "file_extension": ".py",
   "mimetype": "text/x-python",
   "name": "python",
   "nbconvert_exporter": "python",
   "pygments_lexer": "ipython3",
   "version": "3.6.6"
  }
 },
 "nbformat": 4,
 "nbformat_minor": 1
}
